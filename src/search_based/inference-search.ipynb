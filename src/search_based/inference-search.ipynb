{
 "cells": [
  {
   "cell_type": "code",
   "execution_count": 25,
   "id": "c737c768",
   "metadata": {},
   "outputs": [],
   "source": [
    "import pandas as pd\n",
    "import numpy as np\n",
    "import joblib\n",
    "import tensorflow as tf\n",
    "from scipy.sparse import load_npz\n",
    "from sklearn.metrics.pairwise import cosine_similarity"
   ]
  },
  {
   "cell_type": "code",
   "execution_count": null,
   "id": "d39e31ce",
   "metadata": {},
   "outputs": [],
   "source": [
    "# 1. Load model dan data\n",
    "model = tf.keras.models.load_model(\"models/model_final2.h5\")\n",
    "vectorizer = joblib.load(\"vectorizer.pkl\")\n",
    "tfidf_matrix = load_npz(\"tfidf_matrix.npz\")\n",
    "df_produk = pd.read_csv(\"all_dataset.csv\")"
   ]
  },
  {
   "cell_type": "code",
   "execution_count": null,
   "id": "057bdd0e",
   "metadata": {},
   "outputs": [],
   "source": [
    "# 2. Buat Data Unik\n",
    "df_unique = df_produk[['product_id', 'product_name', 'seller_id', 'product_rating', 'product_price']].drop_duplicates()"
   ]
  },
  {
   "cell_type": "code",
   "execution_count": null,
   "id": "734eb35b",
   "metadata": {},
   "outputs": [],
   "source": [
    "# 3. Assign Kategori\n",
    "def assign_category(pid):\n",
    "    pid_str = str(pid)\n",
    "    if pid_str.startswith('1'):\n",
    "        return 'alat_masak'\n",
    "    elif pid_str.startswith('2'):\n",
    "        return 'kamera'\n",
    "    elif pid_str.startswith('3'):\n",
    "        return 'buku'\n",
    "    else:\n",
    "        return 'lainnya'\n",
    "\n",
    "df_unique['category'] = df_unique['product_id'].apply(assign_category)"
   ]
  },
  {
   "cell_type": "code",
   "execution_count": null,
   "id": "05cee8b7",
   "metadata": {},
   "outputs": [],
   "source": [
    "# 4. Preprocessing Teks\n",
    "df_unique['product_name2'] = df_unique['product_name'].str.lower()\n",
    "df_unique['product_name2'] = df_unique['product_name2'].str.replace(u'\\xa0', ' ')\n",
    "df_unique['product_name2'] = df_unique['product_name2'].str.replace(u'\\u200a', ' ')\n",
    "corpus = df_unique['product_name2'].tolist()"
   ]
  },
  {
   "cell_type": "code",
   "execution_count": null,
   "id": "d6f3c698",
   "metadata": {},
   "outputs": [],
   "source": [
    "# 5. Mapping Kategori ke Angka\n",
    "kategori_map = {\n",
    "    'alat_masak': 0,\n",
    "    'kamera': 1,\n",
    "    'buku': 2\n",
    "}\n",
    "df_unique['category_label'] = df_unique['category'].map(kategori_map).fillna(-1).astype(int)"
   ]
  },
  {
   "cell_type": "code",
   "execution_count": null,
   "id": "d6e71c1c",
   "metadata": {},
   "outputs": [],
   "source": [
    "# 6. Hitung Jumlah Kategori\n",
    "num_categories = len(kategori_map)"
   ]
  },
  {
   "cell_type": "code",
   "execution_count": null,
   "id": "0860fe55",
   "metadata": {},
   "outputs": [],
   "source": [
    "# 7. Fungsi Rekomendasi\n",
    "def recommend_with_nn(keyword, df_produk, vectorizer, tfidf_matrix_produk, model, top_n=30):\n",
    "    query_vec = vectorizer.transform([keyword.lower()])\n",
    "    cosine_sim = cosine_similarity(query_vec, tfidf_matrix_produk).flatten()\n",
    "\n",
    "    candidate_indices = cosine_sim.argsort()[-50:][::-1]\n",
    "    hasil = []\n",
    "\n",
    "    for idx in candidate_indices:\n",
    "        produk_tfidf_vec = tfidf_matrix_produk.getrow(idx).toarray().flatten()\n",
    "        category_label = df_produk.iloc[idx]['category_label']\n",
    "\n",
    "        if category_label < 0 or category_label >= num_categories:\n",
    "            continue  # Lewati jika label tidak valid\n",
    "\n",
    "        category_one_hot = np.zeros(num_categories)\n",
    "        category_one_hot[int(category_label)] = 1\n",
    "\n",
    "        x_input = np.concatenate([category_one_hot, produk_tfidf_vec]).reshape(1, -1)\n",
    "        prob = model.predict(x_input, verbose=0)[0][0]\n",
    "\n",
    "        seller_id = df_produk.iloc[idx]['seller_id'] if 'seller_id' in df_produk.columns else 'N/A'\n",
    "\n",
    "        hasil.append({\n",
    "            'product_name': df_produk.iloc[idx]['product_name'],\n",
    "            'seller_id': seller_id,\n",
    "            'score': prob\n",
    "        })\n",
    "\n",
    "    df_hasil = pd.DataFrame(hasil)\n",
    "    df_hasil_sorted = df_hasil.sort_values(by='score', ascending=False).drop(columns=['score'])\n",
    "    return df_hasil_sorted.head(top_n)"
   ]
  },
  {
   "cell_type": "code",
   "execution_count": null,
   "id": "b398bed4",
   "metadata": {},
   "outputs": [
    {
     "name": "stdout",
     "output_type": "stream",
     "text": [
      "                                         product_name  seller_id\n",
      "38  Sony FE 70-200mm f4 Macro G OSS II Lens Sony F...         36\n",
      "40  Sony FE 70-200mm f4 Macro G OSS II Lens Sony F...         97\n",
      "33  Sony FE 70-200mm f4 Macro G OSS II Lens Sony F...        196\n",
      "34  Sony FE 70-200mm f4 Macro G OSS II Lens Sony F...         51\n",
      "35  Sony FE 70-200mm f4 Macro G OSS II Lens Sony F...        127\n",
      "36  Sony FE 70-200mm f4 Macro G OSS II Lens Sony F...         59\n",
      "37  Sony FE 70-200mm f4 Macro G OSS II Lens Sony F...         96\n",
      "39  Sony FE 70-200mm f4 Macro G OSS II Lens Sony F...         83\n",
      "0   Sony ZV-1 II Vlogging Camera Sony ZV1 II Sony ...        133\n",
      "1   Sony ZV-1 II Vlogging Camera Sony ZV1 II Sony ...         95\n",
      "2   Sony ZV-1 II Vlogging Camera Sony ZV1 II Sony ...        172\n",
      "3   Sony ZV-1 II Vlogging Camera Sony ZV1 II Sony ...         40\n",
      "4   Sony ZV-1 II Vlogging Camera Sony ZV1 II Sony ...         31\n",
      "10  Sony A7IV Sony a74 Sony A7 IV Mirrorless Camer...        154\n",
      "5   Sony A7IV Sony a74 Sony A7 IV Mirrorless Camer...         28\n",
      "6   Sony A7IV Sony a74 Sony A7 IV Mirrorless Camer...         42\n",
      "9   Sony A7IV Sony a74 Sony A7 IV Mirrorless Camer...        186\n",
      "7   Sony A7IV Sony a74 Sony A7 IV Mirrorless Camer...        189\n",
      "8   Sony A7IV Sony a74 Sony A7 IV Mirrorless Camer...         49\n",
      "16  Sony Alpha A7CR Sony A7C R Sony A7CR Mirrorles...         59\n",
      "18  Sony Alpha A7CR Sony A7C R Sony A7CR Mirrorles...         45\n",
      "19  Sony Alpha A7CR Sony A7C R Sony A7CR Mirrorles...         49\n",
      "15  Sony Alpha A7CR Sony A7C R Sony A7CR Mirrorles...         19\n",
      "14  Sony Alpha A7CR Sony A7C R Sony A7CR Mirrorles...         97\n",
      "17  Sony Alpha A7CR Sony A7C R Sony A7CR Mirrorles...         21\n",
      "26               Sony FE 28mm f2 Lensa Sony 28 mm f/2         12\n",
      "25               Sony FE 28mm f2 Lensa Sony 28 mm f/2         39\n",
      "11  Sony NP-FZ100 Battery Sony Baterai Kamera NPFZ...          2\n",
      "12  Sony NP-FZ100 Battery Sony Baterai Kamera NPFZ...        114\n",
      "41  Sony Alpha A7C Body Only / Sony A7C BO / Kamer...        113\n"
     ]
    }
   ],
   "source": [
    "# 8. Jalankan Query\n",
    "query = input(\"Cari produk: \")\n",
    "hasil_rekomendasi = recommend_with_nn(query, df_unique, vectorizer, tfidf_matrix, model)\n",
    "\n",
    "print(hasil_rekomendasi)"
   ]
  }
 ],
 "metadata": {
  "kernelspec": {
   "display_name": "Python 3",
   "language": "python",
   "name": "python3"
  },
  "language_info": {
   "codemirror_mode": {
    "name": "ipython",
    "version": 3
   },
   "file_extension": ".py",
   "mimetype": "text/x-python",
   "name": "python",
   "nbconvert_exporter": "python",
   "pygments_lexer": "ipython3",
   "version": "3.11.4"
  }
 },
 "nbformat": 4,
 "nbformat_minor": 5
}
