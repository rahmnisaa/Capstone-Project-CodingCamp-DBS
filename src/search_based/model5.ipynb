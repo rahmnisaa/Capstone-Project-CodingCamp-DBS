{
 "cells": [
  {
   "cell_type": "code",
   "execution_count": 1,
   "id": "0835ef10",
   "metadata": {},
   "outputs": [
    {
     "name": "stdout",
     "output_type": "stream",
     "text": [
      "WARNING:tensorflow:From c:\\Users\\LENOVO\\AppData\\Local\\Programs\\Python\\Python311\\Lib\\site-packages\\keras\\src\\losses.py:2976: The name tf.losses.sparse_softmax_cross_entropy is deprecated. Please use tf.compat.v1.losses.sparse_softmax_cross_entropy instead.\n",
      "\n"
     ]
    }
   ],
   "source": [
    "from sklearn.feature_extraction.text import TfidfVectorizer\n",
    "from sklearn.metrics.pairwise import cosine_similarity\n",
    "import numpy as np\n",
    "import pandas as pd\n",
    "import tensorflow as tf\n",
    "from tensorflow.keras.callbacks import EarlyStopping, ModelCheckpoint"
   ]
  },
  {
   "cell_type": "code",
   "execution_count": null,
   "id": "26e710a9",
   "metadata": {},
   "outputs": [
    {
     "data": {
      "application/vnd.microsoft.datawrangler.viewer.v0+json": {
       "columns": [
        {
         "name": "index",
         "rawType": "int64",
         "type": "integer"
        },
        {
         "name": "seller_id",
         "rawType": "int64",
         "type": "integer"
        },
        {
         "name": "product_name",
         "rawType": "object",
         "type": "string"
        },
        {
         "name": "product_id",
         "rawType": "int64",
         "type": "integer"
        },
        {
         "name": "buyer_id",
         "rawType": "int64",
         "type": "integer"
        },
        {
         "name": "product_rating",
         "rawType": "object",
         "type": "string"
        },
        {
         "name": "product_price",
         "rawType": "int64",
         "type": "integer"
        }
       ],
       "ref": "0b6fc0ab-9059-4b0f-b902-34bf54f487f9",
       "rows": [
        [
         "0",
         "457",
         "40 Set Menu Sehari-hari Hits di Instagram ala Dhila Sina",
         "30070",
         "1504",
         "4.9",
         "142800"
        ],
        [
         "1",
         "457",
         "7 Hari Belajar Drone Photography (Edisi Revisi)",
         "30079",
         "1435",
         "5.0",
         "102000"
        ],
        [
         "2",
         "457",
         "Akasha : City Hunter - Complete Edition 03",
         "30121",
         "1560",
         "4.9",
         "49300"
        ],
        [
         "3",
         "457",
         "AKASHA : FATE/APOCRYPHA 02",
         "30163",
         "271",
         "4.8",
         "38250"
        ],
        [
         "4",
         "457",
         "AKASHA : RECORD OF RAGNAROK 03",
         "30219",
         "6",
         "5.0",
         "38250"
        ],
        [
         "5",
         "457",
         "AKASHA Trace, Recollections of A Forensic Researcher 10",
         "30257",
         "881",
         "5.0",
         "28900"
        ],
        [
         "6",
         "457",
         "AKHIRNYA ADAM PUN TURUN TRILOGI KISAH TELADAN PARA NABI",
         "30266",
         "2332",
         "5.0",
         "78300"
        ],
        [
         "7",
         "457",
         "Al Quran Al-Fariq Terjemah Perkata Latin A5",
         "30335",
         "2444",
         "5.0",
         "70000"
        ],
        [
         "8",
         "457",
         "Al Quran Mushaf Waqaf & Ibtida At Tartil A4",
         "30394",
         "1416",
         "5.0",
         "159000"
        ],
        [
         "9",
         "457",
         "Al-Qur'an Hafalan Muslimah Al-Khalila Merah Muda",
         "30530",
         "527",
         "5.0",
         "98000"
        ],
        [
         "10",
         "457",
         "An Illustrated Biography: Warren Buffett",
         "30562",
         "2391",
         "4.9",
         "59500"
        ],
        [
         "11",
         "457",
         "Asturo Paper Sticker 32X52 Hitam",
         "30646",
         "2035",
         "5.0",
         "14500"
        ],
        [
         "12",
         "457",
         "BANTEX FLEXI NOTE 8871 03",
         "30721",
         "70",
         "5.0",
         "9000"
        ],
        [
         "13",
         "457",
         "Bantex Multiring 26H B5 1326 22 Turquois",
         "30746",
         "399",
         "5.0",
         "75500"
        ],
        [
         "14",
         "457",
         "BELAJAR PEMROGRAMAN DAN HACKING MENGGUNAKAN PYTHON",
         "30769",
         "939",
         "5.0",
         "70550"
        ],
        [
         "15",
         "457",
         "Big Book of Super Fun Coloring 8 in 1",
         "30798",
         "1860",
         "5.0",
         "60350"
        ],
        [
         "16",
         "457",
         "Black Clover 14",
         "30853",
         "487",
         "4.6",
         "34000"
        ],
        [
         "17",
         "457",
         "Buku #Bebastakut Hamil dan Melahirkan",
         "30916",
         "583",
         "5.0",
         "72250"
        ],
        [
         "18",
         "457",
         "Buku 6 Bulan Bisa Beli Properti Kontan! Tanpa Uang Tanpa KPR (HC)",
         "30983",
         "1130",
         "5.0",
         "142800"
        ],
        [
         "19",
         "457",
         "BUKU 8 JURUS EDITING FOTO DENGAN PHOTOSHOP CC 2020",
         "30989",
         "783",
         "5.0",
         "55250"
        ],
        [
         "20",
         "457",
         "Buku Aku Ini Binatang Jalang (Chairil Anwar)",
         "31130",
         "1738",
         "5.0",
         "56100"
        ],
        [
         "21",
         "457",
         "Buku Bagaimana Demokrasi Mati (Steven Levitsky & Daniel Ziblatt)",
         "31355",
         "1472",
         "4.9",
         "83300"
        ],
        [
         "22",
         "457",
         "Buku Belajar Sendiri Menjadi Programmer Excel",
         "31380",
         "2253",
         "4.8",
         "123250"
        ],
        [
         "23",
         "457",
         "Buku Cooking With Love Ala Dapur Momychaa",
         "31642",
         "1339",
         "5.0",
         "168300"
        ],
        [
         "24",
         "457",
         "Buku Dr. Stone 01",
         "31777",
         "2212",
         "5.0",
         "38250"
        ],
        [
         "25",
         "457",
         "Buku Educomics Plants Vs Zombies Bertahan Hidup di Alam",
         "31799",
         "1503",
         "4.9",
         "106250"
        ],
        [
         "26",
         "457",
         "Buku Educomics Plants Vs Zombies: Kutub dan Gletser",
         "31813",
         "1588",
         "5.0",
         "106250"
        ],
        [
         "27",
         "457",
         "Buku Ekonomi - Pengelola Investasi Indonesia: Menjadi Pemimpin Lokal dan Menembus Pasar Global",
         "31837",
         "1259",
         "5.0",
         "59500"
        ],
        [
         "28",
         "457",
         "Buku Ensiklopedia Anak: Dinosaurus",
         "31896",
         "535",
         "4.9",
         "41650"
        ],
        [
         "29",
         "457",
         "Buku Ensiklopedia Junior Tanya-Jawab: Bagaimana, Ya?",
         "31929",
         "870",
         "5.0",
         "118150"
        ],
        [
         "30",
         "457",
         "Buku Fabric of Reality (David Deutsch)",
         "32018",
         "111",
         "4.9",
         "119000"
        ],
        [
         "31",
         "457",
         "Buku Gadis Kretek (Ratih Kumala)",
         "32079",
         "1064",
         "5.0",
         "63750"
        ],
        [
         "32",
         "457",
         "Buku Gambar Estudee Drawing Book A4 J Rocket",
         "32096",
         "307",
         "5.0",
         "9900"
        ],
        [
         "33",
         "457",
         "Buku Gunting Tempel untuk PAUD TK A (Cover 2022)",
         "32134",
         "641",
         "5.0",
         "50150"
        ],
        [
         "34",
         "457",
         "Buku Hingga Akhir Waktu (Brian Greene)",
         "32204",
         "106",
         "5.0",
         "168300"
        ],
        [
         "35",
         "457",
         "Buku Home body",
         "32223",
         "578",
         "5.0",
         "93500"
        ],
        [
         "36",
         "457",
         "Buku Hosit Enak-Enak Jajanan dan Street Food Populer Khas Pontianak (Vianney Lim)",
         "32255",
         "1975",
         "4.9",
         "67150"
        ],
        [
         "37",
         "457",
         "BUKU INTERAKTIF PAUD: KENDARAAN",
         "32373",
         "221",
         "5.0",
         "169150"
        ],
        [
         "38",
         "457",
         "Buku Iqro & Juz Amma & Terjemah Besar / Hvs",
         "32429",
         "1732",
         "5.0",
         "18000"
        ],
        [
         "39",
         "457",
         "Buku Kamus Visual Mini - Kendaraan",
         "32514",
         "506",
         "5.0",
         "80750"
        ],
        [
         "40",
         "457",
         "Buku Kdrt-Kemesraan Dalam Rumah Tangga (BUDIMAN HAKIM)",
         "32537",
         "1484",
         "5.0",
         "88200"
        ],
        [
         "41",
         "457",
         "Buku Kenapa, Ya? Genius : Fakta Seru Tentang Segala Hal dan Jumlahnya (Emillie Gillet)",
         "32556",
         "665",
         "5.0",
         "118150"
        ],
        [
         "42",
         "457",
         "Buku Kerudung Ibuku (Jenny Molendyk Divieli)",
         "32560",
         "1965",
         "4.8",
         "38250"
        ],
        [
         "43",
         "457",
         "Buku Klara dan Sang Matahari (Klara and The Sun)",
         "32578",
         "947",
         "5.0",
         "99450"
        ],
        [
         "44",
         "457",
         "Buku Komunikasi Chill ( EMMA ALIUDIN & BRILYANTINI)",
         "32629",
         "2285",
         "5.0",
         "42000"
        ],
        [
         "45",
         "457",
         "Buku Kue Tradisional Indonesia Resep Bakulan Toko Kue Sabine",
         "32665",
         "2028",
         "5.0",
         "83300"
        ],
        [
         "46",
         "457",
         "Buku Lautan dan Dendamnya (Adib Izra Mirza)",
         "32697",
         "1140",
         "5.0",
         "115000"
        ],
        [
         "47",
         "457",
         "Buku Lembar Mewarnai & Aktivitas Jumbo: Princess",
         "32724",
         "248",
         "5.0",
         "33150"
        ],
        [
         "48",
         "457",
         "Buku Liberalisasi Pendidikan Sekolah Swasta",
         "32739",
         "683",
         "5.0",
         "136000"
        ],
        [
         "49",
         "457",
         "Buku Life Reset: Bertumbuh Dimulai Dari Sini (Senja Rindiani)",
         "32744",
         "2455",
         "4.9",
         "83300"
        ]
       ],
       "shape": {
        "columns": 6,
        "rows": 50000
       }
      },
      "text/html": [
       "<div>\n",
       "<style scoped>\n",
       "    .dataframe tbody tr th:only-of-type {\n",
       "        vertical-align: middle;\n",
       "    }\n",
       "\n",
       "    .dataframe tbody tr th {\n",
       "        vertical-align: top;\n",
       "    }\n",
       "\n",
       "    .dataframe thead th {\n",
       "        text-align: right;\n",
       "    }\n",
       "</style>\n",
       "<table border=\"1\" class=\"dataframe\">\n",
       "  <thead>\n",
       "    <tr style=\"text-align: right;\">\n",
       "      <th></th>\n",
       "      <th>seller_id</th>\n",
       "      <th>product_name</th>\n",
       "      <th>product_id</th>\n",
       "      <th>buyer_id</th>\n",
       "      <th>product_rating</th>\n",
       "      <th>product_price</th>\n",
       "    </tr>\n",
       "  </thead>\n",
       "  <tbody>\n",
       "    <tr>\n",
       "      <th>0</th>\n",
       "      <td>457</td>\n",
       "      <td>40 Set Menu Sehari-hari Hits di Instagram ala ...</td>\n",
       "      <td>30070</td>\n",
       "      <td>1504</td>\n",
       "      <td>4.9</td>\n",
       "      <td>142800</td>\n",
       "    </tr>\n",
       "    <tr>\n",
       "      <th>1</th>\n",
       "      <td>457</td>\n",
       "      <td>7 Hari Belajar Drone Photography (Edisi Revisi)</td>\n",
       "      <td>30079</td>\n",
       "      <td>1435</td>\n",
       "      <td>5.0</td>\n",
       "      <td>102000</td>\n",
       "    </tr>\n",
       "    <tr>\n",
       "      <th>2</th>\n",
       "      <td>457</td>\n",
       "      <td>Akasha : City Hunter - Complete Edition 03</td>\n",
       "      <td>30121</td>\n",
       "      <td>1560</td>\n",
       "      <td>4.9</td>\n",
       "      <td>49300</td>\n",
       "    </tr>\n",
       "    <tr>\n",
       "      <th>3</th>\n",
       "      <td>457</td>\n",
       "      <td>AKASHA : FATE/APOCRYPHA 02</td>\n",
       "      <td>30163</td>\n",
       "      <td>271</td>\n",
       "      <td>4.8</td>\n",
       "      <td>38250</td>\n",
       "    </tr>\n",
       "    <tr>\n",
       "      <th>4</th>\n",
       "      <td>457</td>\n",
       "      <td>AKASHA : RECORD OF RAGNAROK 03</td>\n",
       "      <td>30219</td>\n",
       "      <td>6</td>\n",
       "      <td>5.0</td>\n",
       "      <td>38250</td>\n",
       "    </tr>\n",
       "    <tr>\n",
       "      <th>...</th>\n",
       "      <td>...</td>\n",
       "      <td>...</td>\n",
       "      <td>...</td>\n",
       "      <td>...</td>\n",
       "      <td>...</td>\n",
       "      <td>...</td>\n",
       "    </tr>\n",
       "    <tr>\n",
       "      <th>49995</th>\n",
       "      <td>105</td>\n",
       "      <td>Samyang V-AF 24mm T1.9 Lens for Sony FE Samyan...</td>\n",
       "      <td>23658</td>\n",
       "      <td>47</td>\n",
       "      <td>5.0</td>\n",
       "      <td>8979000</td>\n",
       "    </tr>\n",
       "    <tr>\n",
       "      <th>49996</th>\n",
       "      <td>135</td>\n",
       "      <td>Godox S60 LED Focusing 3-Light Kit</td>\n",
       "      <td>29682</td>\n",
       "      <td>132</td>\n",
       "      <td>5.0</td>\n",
       "      <td>18849000</td>\n",
       "    </tr>\n",
       "    <tr>\n",
       "      <th>49997</th>\n",
       "      <td>134</td>\n",
       "      <td>Memory 128GB SF-M Tough Series UHS-II SDXC Mem...</td>\n",
       "      <td>28802</td>\n",
       "      <td>250</td>\n",
       "      <td>5.0</td>\n",
       "      <td>1599000</td>\n",
       "    </tr>\n",
       "    <tr>\n",
       "      <th>49998</th>\n",
       "      <td>4</td>\n",
       "      <td>Insta360 One X3 Sticky Lensguard</td>\n",
       "      <td>20253</td>\n",
       "      <td>248</td>\n",
       "      <td>5.0</td>\n",
       "      <td>539000</td>\n",
       "    </tr>\n",
       "    <tr>\n",
       "      <th>49999</th>\n",
       "      <td>145</td>\n",
       "      <td>Godox Digital Remote TR-S2</td>\n",
       "      <td>27322</td>\n",
       "      <td>7</td>\n",
       "      <td>5.0</td>\n",
       "      <td>659000</td>\n",
       "    </tr>\n",
       "  </tbody>\n",
       "</table>\n",
       "<p>50000 rows × 6 columns</p>\n",
       "</div>"
      ],
      "text/plain": [
       "       seller_id                                       product_name  \\\n",
       "0            457  40 Set Menu Sehari-hari Hits di Instagram ala ...   \n",
       "1            457    7 Hari Belajar Drone Photography (Edisi Revisi)   \n",
       "2            457         Akasha : City Hunter - Complete Edition 03   \n",
       "3            457                         AKASHA : FATE/APOCRYPHA 02   \n",
       "4            457                     AKASHA : RECORD OF RAGNAROK 03   \n",
       "...          ...                                                ...   \n",
       "49995        105  Samyang V-AF 24mm T1.9 Lens for Sony FE Samyan...   \n",
       "49996        135                 Godox S60 LED Focusing 3-Light Kit   \n",
       "49997        134  Memory 128GB SF-M Tough Series UHS-II SDXC Mem...   \n",
       "49998          4                   Insta360 One X3 Sticky Lensguard   \n",
       "49999        145                         Godox Digital Remote TR-S2   \n",
       "\n",
       "       product_id  buyer_id product_rating  product_price  \n",
       "0           30070      1504            4.9         142800  \n",
       "1           30079      1435            5.0         102000  \n",
       "2           30121      1560            4.9          49300  \n",
       "3           30163       271            4.8          38250  \n",
       "4           30219         6            5.0          38250  \n",
       "...           ...       ...            ...            ...  \n",
       "49995       23658        47            5.0        8979000  \n",
       "49996       29682       132            5.0       18849000  \n",
       "49997       28802       250            5.0        1599000  \n",
       "49998       20253       248            5.0         539000  \n",
       "49999       27322         7            5.0         659000  \n",
       "\n",
       "[50000 rows x 6 columns]"
      ]
     },
     "execution_count": 2,
     "metadata": {},
     "output_type": "execute_result"
    }
   ],
   "source": [
    "# 1. Load Dataset\n",
    "df = pd.read_csv(\"all_dataset.csv\")\n",
    "df"
   ]
  },
  {
   "cell_type": "code",
   "execution_count": null,
   "id": "68dfa29a",
   "metadata": {},
   "outputs": [
    {
     "data": {
      "application/vnd.microsoft.datawrangler.viewer.v0+json": {
       "columns": [
        {
         "name": "index",
         "rawType": "int64",
         "type": "integer"
        },
        {
         "name": "product_id",
         "rawType": "int64",
         "type": "integer"
        },
        {
         "name": "product_name",
         "rawType": "object",
         "type": "string"
        },
        {
         "name": "seller_id",
         "rawType": "int64",
         "type": "integer"
        },
        {
         "name": "product_rating",
         "rawType": "object",
         "type": "string"
        },
        {
         "name": "product_price",
         "rawType": "int64",
         "type": "integer"
        }
       ],
       "ref": "bf9aed2d-c1eb-4e7c-aaf9-9d5a2fc48af3",
       "rows": [
        [
         "0",
         "30070",
         "40 Set Menu Sehari-hari Hits di Instagram ala Dhila Sina",
         "457",
         "4.9",
         "142800"
        ],
        [
         "1",
         "30079",
         "7 Hari Belajar Drone Photography (Edisi Revisi)",
         "457",
         "5.0",
         "102000"
        ],
        [
         "2",
         "30121",
         "Akasha : City Hunter - Complete Edition 03",
         "457",
         "4.9",
         "49300"
        ],
        [
         "3",
         "30163",
         "AKASHA : FATE/APOCRYPHA 02",
         "457",
         "4.8",
         "38250"
        ],
        [
         "4",
         "30219",
         "AKASHA : RECORD OF RAGNAROK 03",
         "457",
         "5.0",
         "38250"
        ],
        [
         "5",
         "30257",
         "AKASHA Trace, Recollections of A Forensic Researcher 10",
         "457",
         "5.0",
         "28900"
        ],
        [
         "6",
         "30266",
         "AKHIRNYA ADAM PUN TURUN TRILOGI KISAH TELADAN PARA NABI",
         "457",
         "5.0",
         "78300"
        ],
        [
         "7",
         "30335",
         "Al Quran Al-Fariq Terjemah Perkata Latin A5",
         "457",
         "5.0",
         "70000"
        ],
        [
         "8",
         "30394",
         "Al Quran Mushaf Waqaf & Ibtida At Tartil A4",
         "457",
         "5.0",
         "159000"
        ],
        [
         "9",
         "30530",
         "Al-Qur'an Hafalan Muslimah Al-Khalila Merah Muda",
         "457",
         "5.0",
         "98000"
        ],
        [
         "10",
         "30562",
         "An Illustrated Biography: Warren Buffett",
         "457",
         "4.9",
         "59500"
        ],
        [
         "11",
         "30646",
         "Asturo Paper Sticker 32X52 Hitam",
         "457",
         "5.0",
         "14500"
        ],
        [
         "12",
         "30721",
         "BANTEX FLEXI NOTE 8871 03",
         "457",
         "5.0",
         "9000"
        ],
        [
         "13",
         "30746",
         "Bantex Multiring 26H B5 1326 22 Turquois",
         "457",
         "5.0",
         "75500"
        ],
        [
         "14",
         "30769",
         "BELAJAR PEMROGRAMAN DAN HACKING MENGGUNAKAN PYTHON",
         "457",
         "5.0",
         "70550"
        ],
        [
         "15",
         "30798",
         "Big Book of Super Fun Coloring 8 in 1",
         "457",
         "5.0",
         "60350"
        ],
        [
         "16",
         "30853",
         "Black Clover 14",
         "457",
         "4.6",
         "34000"
        ],
        [
         "17",
         "30916",
         "Buku #Bebastakut Hamil dan Melahirkan",
         "457",
         "5.0",
         "72250"
        ],
        [
         "18",
         "30983",
         "Buku 6 Bulan Bisa Beli Properti Kontan! Tanpa Uang Tanpa KPR (HC)",
         "457",
         "5.0",
         "142800"
        ],
        [
         "19",
         "30989",
         "BUKU 8 JURUS EDITING FOTO DENGAN PHOTOSHOP CC 2020",
         "457",
         "5.0",
         "55250"
        ],
        [
         "20",
         "31130",
         "Buku Aku Ini Binatang Jalang (Chairil Anwar)",
         "457",
         "5.0",
         "56100"
        ],
        [
         "21",
         "31355",
         "Buku Bagaimana Demokrasi Mati (Steven Levitsky & Daniel Ziblatt)",
         "457",
         "4.9",
         "83300"
        ],
        [
         "22",
         "31380",
         "Buku Belajar Sendiri Menjadi Programmer Excel",
         "457",
         "4.8",
         "123250"
        ],
        [
         "23",
         "31642",
         "Buku Cooking With Love Ala Dapur Momychaa",
         "457",
         "5.0",
         "168300"
        ],
        [
         "24",
         "31777",
         "Buku Dr. Stone 01",
         "457",
         "5.0",
         "38250"
        ],
        [
         "25",
         "31799",
         "Buku Educomics Plants Vs Zombies Bertahan Hidup di Alam",
         "457",
         "4.9",
         "106250"
        ],
        [
         "26",
         "31813",
         "Buku Educomics Plants Vs Zombies: Kutub dan Gletser",
         "457",
         "5.0",
         "106250"
        ],
        [
         "27",
         "31837",
         "Buku Ekonomi - Pengelola Investasi Indonesia: Menjadi Pemimpin Lokal dan Menembus Pasar Global",
         "457",
         "5.0",
         "59500"
        ],
        [
         "28",
         "31896",
         "Buku Ensiklopedia Anak: Dinosaurus",
         "457",
         "4.9",
         "41650"
        ],
        [
         "29",
         "31929",
         "Buku Ensiklopedia Junior Tanya-Jawab: Bagaimana, Ya?",
         "457",
         "5.0",
         "118150"
        ],
        [
         "30",
         "32018",
         "Buku Fabric of Reality (David Deutsch)",
         "457",
         "4.9",
         "119000"
        ],
        [
         "31",
         "32079",
         "Buku Gadis Kretek (Ratih Kumala)",
         "457",
         "5.0",
         "63750"
        ],
        [
         "32",
         "32096",
         "Buku Gambar Estudee Drawing Book A4 J Rocket",
         "457",
         "5.0",
         "9900"
        ],
        [
         "33",
         "32134",
         "Buku Gunting Tempel untuk PAUD TK A (Cover 2022)",
         "457",
         "5.0",
         "50150"
        ],
        [
         "34",
         "32204",
         "Buku Hingga Akhir Waktu (Brian Greene)",
         "457",
         "5.0",
         "168300"
        ],
        [
         "35",
         "32223",
         "Buku Home body",
         "457",
         "5.0",
         "93500"
        ],
        [
         "36",
         "32255",
         "Buku Hosit Enak-Enak Jajanan dan Street Food Populer Khas Pontianak (Vianney Lim)",
         "457",
         "4.9",
         "67150"
        ],
        [
         "37",
         "32373",
         "BUKU INTERAKTIF PAUD: KENDARAAN",
         "457",
         "5.0",
         "169150"
        ],
        [
         "38",
         "32429",
         "Buku Iqro & Juz Amma & Terjemah Besar / Hvs",
         "457",
         "5.0",
         "18000"
        ],
        [
         "39",
         "32514",
         "Buku Kamus Visual Mini - Kendaraan",
         "457",
         "5.0",
         "80750"
        ],
        [
         "40",
         "32537",
         "Buku Kdrt-Kemesraan Dalam Rumah Tangga (BUDIMAN HAKIM)",
         "457",
         "5.0",
         "88200"
        ],
        [
         "41",
         "32556",
         "Buku Kenapa, Ya? Genius : Fakta Seru Tentang Segala Hal dan Jumlahnya (Emillie Gillet)",
         "457",
         "5.0",
         "118150"
        ],
        [
         "42",
         "32560",
         "Buku Kerudung Ibuku (Jenny Molendyk Divieli)",
         "457",
         "4.8",
         "38250"
        ],
        [
         "43",
         "32578",
         "Buku Klara dan Sang Matahari (Klara and The Sun)",
         "457",
         "5.0",
         "99450"
        ],
        [
         "44",
         "32629",
         "Buku Komunikasi Chill ( EMMA ALIUDIN & BRILYANTINI)",
         "457",
         "5.0",
         "42000"
        ],
        [
         "45",
         "32665",
         "Buku Kue Tradisional Indonesia Resep Bakulan Toko Kue Sabine",
         "457",
         "5.0",
         "83300"
        ],
        [
         "46",
         "32697",
         "Buku Lautan dan Dendamnya (Adib Izra Mirza)",
         "457",
         "5.0",
         "115000"
        ],
        [
         "47",
         "32724",
         "Buku Lembar Mewarnai & Aktivitas Jumbo: Princess",
         "457",
         "5.0",
         "33150"
        ],
        [
         "48",
         "32739",
         "Buku Liberalisasi Pendidikan Sekolah Swasta",
         "457",
         "5.0",
         "136000"
        ],
        [
         "49",
         "32744",
         "Buku Life Reset: Bertumbuh Dimulai Dari Sini (Senja Rindiani)",
         "457",
         "4.9",
         "83300"
        ]
       ],
       "shape": {
        "columns": 5,
        "rows": 27739
       }
      },
      "text/html": [
       "<div>\n",
       "<style scoped>\n",
       "    .dataframe tbody tr th:only-of-type {\n",
       "        vertical-align: middle;\n",
       "    }\n",
       "\n",
       "    .dataframe tbody tr th {\n",
       "        vertical-align: top;\n",
       "    }\n",
       "\n",
       "    .dataframe thead th {\n",
       "        text-align: right;\n",
       "    }\n",
       "</style>\n",
       "<table border=\"1\" class=\"dataframe\">\n",
       "  <thead>\n",
       "    <tr style=\"text-align: right;\">\n",
       "      <th></th>\n",
       "      <th>product_id</th>\n",
       "      <th>product_name</th>\n",
       "      <th>seller_id</th>\n",
       "      <th>product_rating</th>\n",
       "      <th>product_price</th>\n",
       "    </tr>\n",
       "  </thead>\n",
       "  <tbody>\n",
       "    <tr>\n",
       "      <th>0</th>\n",
       "      <td>30070</td>\n",
       "      <td>40 Set Menu Sehari-hari Hits di Instagram ala ...</td>\n",
       "      <td>457</td>\n",
       "      <td>4.9</td>\n",
       "      <td>142800</td>\n",
       "    </tr>\n",
       "    <tr>\n",
       "      <th>1</th>\n",
       "      <td>30079</td>\n",
       "      <td>7 Hari Belajar Drone Photography (Edisi Revisi)</td>\n",
       "      <td>457</td>\n",
       "      <td>5.0</td>\n",
       "      <td>102000</td>\n",
       "    </tr>\n",
       "    <tr>\n",
       "      <th>2</th>\n",
       "      <td>30121</td>\n",
       "      <td>Akasha : City Hunter - Complete Edition 03</td>\n",
       "      <td>457</td>\n",
       "      <td>4.9</td>\n",
       "      <td>49300</td>\n",
       "    </tr>\n",
       "    <tr>\n",
       "      <th>3</th>\n",
       "      <td>30163</td>\n",
       "      <td>AKASHA : FATE/APOCRYPHA 02</td>\n",
       "      <td>457</td>\n",
       "      <td>4.8</td>\n",
       "      <td>38250</td>\n",
       "    </tr>\n",
       "    <tr>\n",
       "      <th>4</th>\n",
       "      <td>30219</td>\n",
       "      <td>AKASHA : RECORD OF RAGNAROK 03</td>\n",
       "      <td>457</td>\n",
       "      <td>5.0</td>\n",
       "      <td>38250</td>\n",
       "    </tr>\n",
       "    <tr>\n",
       "      <th>...</th>\n",
       "      <td>...</td>\n",
       "      <td>...</td>\n",
       "      <td>...</td>\n",
       "      <td>...</td>\n",
       "      <td>...</td>\n",
       "    </tr>\n",
       "    <tr>\n",
       "      <th>49994</th>\n",
       "      <td>24137</td>\n",
       "      <td>Keychron K12-H2 RGB Backlight Gateron Hot-swap...</td>\n",
       "      <td>104</td>\n",
       "      <td>5.0</td>\n",
       "      <td>1399000</td>\n",
       "    </tr>\n",
       "    <tr>\n",
       "      <th>49995</th>\n",
       "      <td>23658</td>\n",
       "      <td>Samyang V-AF 24mm T1.9 Lens for Sony FE Samyan...</td>\n",
       "      <td>105</td>\n",
       "      <td>5.0</td>\n",
       "      <td>8979000</td>\n",
       "    </tr>\n",
       "    <tr>\n",
       "      <th>49997</th>\n",
       "      <td>28802</td>\n",
       "      <td>Memory 128GB SF-M Tough Series UHS-II SDXC Mem...</td>\n",
       "      <td>134</td>\n",
       "      <td>5.0</td>\n",
       "      <td>1599000</td>\n",
       "    </tr>\n",
       "    <tr>\n",
       "      <th>49998</th>\n",
       "      <td>20253</td>\n",
       "      <td>Insta360 One X3 Sticky Lensguard</td>\n",
       "      <td>4</td>\n",
       "      <td>5.0</td>\n",
       "      <td>539000</td>\n",
       "    </tr>\n",
       "    <tr>\n",
       "      <th>49999</th>\n",
       "      <td>27322</td>\n",
       "      <td>Godox Digital Remote TR-S2</td>\n",
       "      <td>145</td>\n",
       "      <td>5.0</td>\n",
       "      <td>659000</td>\n",
       "    </tr>\n",
       "  </tbody>\n",
       "</table>\n",
       "<p>27739 rows × 5 columns</p>\n",
       "</div>"
      ],
      "text/plain": [
       "       product_id                                       product_name  \\\n",
       "0           30070  40 Set Menu Sehari-hari Hits di Instagram ala ...   \n",
       "1           30079    7 Hari Belajar Drone Photography (Edisi Revisi)   \n",
       "2           30121         Akasha : City Hunter - Complete Edition 03   \n",
       "3           30163                         AKASHA : FATE/APOCRYPHA 02   \n",
       "4           30219                     AKASHA : RECORD OF RAGNAROK 03   \n",
       "...           ...                                                ...   \n",
       "49994       24137  Keychron K12-H2 RGB Backlight Gateron Hot-swap...   \n",
       "49995       23658  Samyang V-AF 24mm T1.9 Lens for Sony FE Samyan...   \n",
       "49997       28802  Memory 128GB SF-M Tough Series UHS-II SDXC Mem...   \n",
       "49998       20253                   Insta360 One X3 Sticky Lensguard   \n",
       "49999       27322                         Godox Digital Remote TR-S2   \n",
       "\n",
       "       seller_id product_rating  product_price  \n",
       "0            457            4.9         142800  \n",
       "1            457            5.0         102000  \n",
       "2            457            4.9          49300  \n",
       "3            457            4.8          38250  \n",
       "4            457            5.0          38250  \n",
       "...          ...            ...            ...  \n",
       "49994        104            5.0        1399000  \n",
       "49995        105            5.0        8979000  \n",
       "49997        134            5.0        1599000  \n",
       "49998          4            5.0         539000  \n",
       "49999        145            5.0         659000  \n",
       "\n",
       "[27739 rows x 5 columns]"
      ]
     },
     "execution_count": 3,
     "metadata": {},
     "output_type": "execute_result"
    }
   ],
   "source": [
    "# 2. Hapus duplikat produk yang sama di toko yang sama\n",
    "df_unique = df[['product_id', 'product_name', 'seller_id', 'product_rating', 'product_price']].drop_duplicates()\n",
    "df_unique"
   ]
  },
  {
   "cell_type": "code",
   "execution_count": null,
   "id": "fe256169",
   "metadata": {},
   "outputs": [],
   "source": [
    "# 3. Assign Category\n",
    "def assign_category(pid):\n",
    "    pid_str = str(pid)\n",
    "    if pid_str.startswith('1'):\n",
    "        return 'alat_masak'\n",
    "    elif pid_str.startswith('2'):\n",
    "        return 'kamera'\n",
    "    elif pid_str.startswith('3'):\n",
    "        return 'buku'\n",
    "    else:\n",
    "        return 'lainnya'\n",
    "\n",
    "df_unique['category'] = df_unique['product_id'].apply(assign_category)"
   ]
  },
  {
   "cell_type": "code",
   "execution_count": null,
   "id": "f75eb78c",
   "metadata": {},
   "outputs": [],
   "source": [
    "# 4. Preprocessing Teks\n",
    "df_unique['product_name2'] = df_unique['product_name'].str.lower()\n",
    "df_unique['product_name2'] = df_unique['product_name2'].str.replace(u'\\xa0', ' ')\n",
    "df_unique['product_name2'] = df_unique['product_name2'].str.replace(u'\\u200a', ' ')\n",
    "corpus = df_unique['product_name2'].tolist()\n"
   ]
  },
  {
   "cell_type": "code",
   "execution_count": null,
   "id": "12ff0186",
   "metadata": {},
   "outputs": [],
   "source": [
    "# 5. Membuat mapping kategori ke angka\n",
    "kategori_map = {\n",
    "    'alat_masak': 0,\n",
    "    'kamera': 1,\n",
    "    'buku': 2\n",
    "}\n",
    "\n",
    "df_unique['category_label'] = df_unique['category'].map(kategori_map)"
   ]
  },
  {
   "cell_type": "code",
   "execution_count": null,
   "id": "5f30467b",
   "metadata": {},
   "outputs": [],
   "source": [
    "# 6. Fit TF-IDF ke nama produk\n",
    "vectorizer = TfidfVectorizer()\n",
    "tfidf_matrix_produk = vectorizer.fit_transform(df_unique['product_name2'])"
   ]
  },
  {
   "cell_type": "code",
   "execution_count": null,
   "id": "b0524472",
   "metadata": {},
   "outputs": [],
   "source": [
    "num_categories = 3\n",
    "produk_vec_dim = tfidf_matrix_produk.shape[1]"
   ]
  },
  {
   "cell_type": "code",
   "execution_count": 9,
   "id": "5a06d6b9",
   "metadata": {},
   "outputs": [],
   "source": [
    "from sklearn.model_selection import train_test_split\n"
   ]
  },
  {
   "cell_type": "code",
   "execution_count": null,
   "id": "04c0093b",
   "metadata": {},
   "outputs": [],
   "source": [
    "X_list = []\n",
    "for i in range(len(df_unique)):\n",
    "    produk_tfidf_vec = tfidf_matrix_produk[i].toarray().flatten()\n",
    "    category_label = df_unique.iloc[i]['category_label']\n",
    "    category_one_hot = np.zeros(num_categories)\n",
    "    category_one_hot[category_label] = 1\n",
    "    fitur = np.hstack([category_one_hot, produk_tfidf_vec])\n",
    "    X_list.append(fitur)\n",
    "X = np.array(X_list).astype('float32')\n",
    "y = df_unique['category_label'].values\n",
    "\n",
    "y_binary = (y == 1).astype(np.float32)\n",
    "\n",
    "# Split data train-test\n",
    "X_train, X_test, y_train, y_test = train_test_split(X, y_binary, test_size=0.3, random_state=42)"
   ]
  },
  {
   "cell_type": "code",
   "execution_count": null,
   "id": "35013c59",
   "metadata": {},
   "outputs": [
    {
     "name": "stdout",
     "output_type": "stream",
     "text": [
      "WARNING:tensorflow:From c:\\Users\\LENOVO\\AppData\\Local\\Programs\\Python\\Python311\\Lib\\site-packages\\keras\\src\\optimizers\\__init__.py:309: The name tf.train.Optimizer is deprecated. Please use tf.compat.v1.train.Optimizer instead.\n",
      "\n"
     ]
    }
   ],
   "source": [
    "# 7. Bangun model neural network\n",
    "model = tf.keras.Sequential([\n",
    "    tf.keras.layers.Input(shape=(num_categories + produk_vec_dim,)),\n",
    "    tf.keras.layers.Dense(64, activation='relu'),\n",
    "    tf.keras.layers.Dense(1, activation='sigmoid')\n",
    "])\n",
    "model.compile(optimizer='adam', loss='binary_crossentropy', metrics=['accuracy'])"
   ]
  },
  {
   "cell_type": "code",
   "execution_count": null,
   "id": "3def2f57",
   "metadata": {},
   "outputs": [],
   "source": [
    "# 8. Callback dan Checkpoint\n",
    "early_stop = EarlyStopping(monitor='accuracy', patience=3, restore_best_weights=True)\n",
    "model_path = \"models/model_final2.h5\"\n",
    "checkpoint = ModelCheckpoint(model_path, monitor='accuracy', save_best_only=True)"
   ]
  },
  {
   "cell_type": "code",
   "execution_count": null,
   "id": "b1a5c47c",
   "metadata": {},
   "outputs": [
    {
     "name": "stdout",
     "output_type": "stream",
     "text": [
      "Epoch 1/10\n",
      "WARNING:tensorflow:From c:\\Users\\LENOVO\\AppData\\Local\\Programs\\Python\\Python311\\Lib\\site-packages\\keras\\src\\utils\\tf_utils.py:492: The name tf.ragged.RaggedTensorValue is deprecated. Please use tf.compat.v1.ragged.RaggedTensorValue instead.\n",
      "\n",
      "WARNING:tensorflow:From c:\\Users\\LENOVO\\AppData\\Local\\Programs\\Python\\Python311\\Lib\\site-packages\\keras\\src\\engine\\base_layer_utils.py:384: The name tf.executing_eagerly_outside_functions is deprecated. Please use tf.compat.v1.executing_eagerly_outside_functions instead.\n",
      "\n",
      "607/607 [==============================] - 10s 12ms/step - loss: 0.0867 - accuracy: 0.9991\n",
      "Epoch 2/10\n"
     ]
    },
    {
     "name": "stderr",
     "output_type": "stream",
     "text": [
      "c:\\Users\\LENOVO\\AppData\\Local\\Programs\\Python\\Python311\\Lib\\site-packages\\keras\\src\\engine\\training.py:3103: UserWarning: You are saving your model as an HDF5 file via `model.save()`. This file format is considered legacy. We recommend using instead the native Keras format, e.g. `model.save('my_model.keras')`.\n",
      "  saving_api.save_model(\n"
     ]
    },
    {
     "name": "stdout",
     "output_type": "stream",
     "text": [
      "607/607 [==============================] - 6s 10ms/step - loss: 0.0013 - accuracy: 1.0000\n",
      "Epoch 3/10\n",
      "607/607 [==============================] - 7s 11ms/step - loss: 4.3362e-04 - accuracy: 1.0000\n",
      "Epoch 4/10\n",
      "607/607 [==============================] - 6s 10ms/step - loss: 2.0469e-04 - accuracy: 1.0000\n",
      "Epoch 5/10\n",
      "607/607 [==============================] - 5s 9ms/step - loss: 1.1321e-04 - accuracy: 1.0000\n"
     ]
    },
    {
     "data": {
      "text/plain": [
       "<keras.src.callbacks.History at 0x25fabb4dc50>"
      ]
     },
     "execution_count": 16,
     "metadata": {},
     "output_type": "execute_result"
    }
   ],
   "source": [
    "# 9. Train model\n",
    "model.fit(X_train, y_train, epochs=10, batch_size=32, verbose=1, callbacks=[early_stop, checkpoint])"
   ]
  },
  {
   "cell_type": "code",
   "execution_count": null,
   "id": "b0073b92",
   "metadata": {},
   "outputs": [],
   "source": [
    "# 10. Membangun fungsi\n",
    "def recommend_with_nn(keyword, df_produk, vectorizer, tfidf_matrix_produk, model, top_n=30):\n",
    "    query_vec = vectorizer.transform([keyword.lower()])\n",
    "    cosine_sim = cosine_similarity(query_vec, tfidf_matrix_produk).flatten()\n",
    "    candidate_indices = cosine_sim.argsort()[-20:][::-1]\n",
    "\n",
    "    hasil = []\n",
    "    for idx in candidate_indices:\n",
    "        produk_tfidf_vec = tfidf_matrix_produk[idx].toarray()\n",
    "        category_label = df_produk.iloc[idx]['category_label']\n",
    "        category_one_hot = np.zeros(num_categories)\n",
    "        category_one_hot[category_label] = 1\n",
    "\n",
    "        x_input = np.hstack([category_one_hot, produk_tfidf_vec.flatten()]).reshape(1, -1)\n",
    "        prob = model.predict(x_input, verbose=0)[0][0]\n",
    "\n",
    "        hasil.append({\n",
    "            'product_name': df_produk.iloc[idx]['product_name'],\n",
    "            'seller_id': df_produk.iloc[idx].get('seller_id', 'N/A'),\n",
    "            # tidak memasukkan score ke hasil\n",
    "        })\n",
    "\n",
    "        df_hasil = pd.DataFrame(hasil)\n",
    "        \n",
    "    # Urut berdasarkan prob tanpa menampilkan\n",
    "    df_hasil['score'] = [model.predict(\n",
    "        np.hstack([np.eye(num_categories)[df_produk.iloc[idx]['category_label']],\n",
    "                   tfidf_matrix_produk[idx].toarray().flatten()]).reshape(1,-1),\n",
    "        verbose=0)[0][0] for idx in candidate_indices]\n",
    "    df_hasil_sorted = df_hasil.sort_values(by='score', ascending=False).drop(columns=['score'])\n",
    "    return df_hasil_sorted.head(top_n)\n",
    "\n"
   ]
  },
  {
   "cell_type": "code",
   "execution_count": 19,
   "id": "590b2929",
   "metadata": {},
   "outputs": [],
   "source": [
    "model = tf.keras.models.load_model(\"models/model_final2.h5\")\n"
   ]
  },
  {
   "cell_type": "code",
   "execution_count": 20,
   "id": "f190209a",
   "metadata": {},
   "outputs": [
    {
     "name": "stdout",
     "output_type": "stream",
     "text": [
      "                                         product_name  seller_id\n",
      "0   Sony ZV-1 II Vlogging Camera Sony ZV1 II Sony ...        133\n",
      "2   Sony ZV-1 II Vlogging Camera Sony ZV1 II Sony ...        172\n",
      "3   Sony ZV-1 II Vlogging Camera Sony ZV1 II Sony ...         40\n",
      "4   Sony ZV-1 II Vlogging Camera Sony ZV1 II Sony ...         31\n",
      "1   Sony ZV-1 II Vlogging Camera Sony ZV1 II Sony ...         95\n",
      "8   Sony A7IV Sony a74 Sony A7 IV Mirrorless Camer...         49\n",
      "9   Sony A7IV Sony a74 Sony A7 IV Mirrorless Camer...        186\n",
      "10  Sony A7IV Sony a74 Sony A7 IV Mirrorless Camer...        154\n",
      "7   Sony A7IV Sony a74 Sony A7 IV Mirrorless Camer...        189\n",
      "6   Sony A7IV Sony a74 Sony A7 IV Mirrorless Camer...         42\n",
      "5   Sony A7IV Sony a74 Sony A7 IV Mirrorless Camer...         28\n",
      "14  Sony Alpha A7CR Sony A7C R Sony A7CR Mirrorles...         97\n",
      "15  Sony Alpha A7CR Sony A7C R Sony A7CR Mirrorles...         19\n",
      "16  Sony Alpha A7CR Sony A7C R Sony A7CR Mirrorles...         59\n",
      "17  Sony Alpha A7CR Sony A7C R Sony A7CR Mirrorles...         21\n",
      "18  Sony Alpha A7CR Sony A7C R Sony A7CR Mirrorles...         45\n",
      "19  Sony Alpha A7CR Sony A7C R Sony A7CR Mirrorles...         49\n",
      "11  Sony NP-FZ100 Battery Sony Baterai Kamera NPFZ...          2\n",
      "12  Sony NP-FZ100 Battery Sony Baterai Kamera NPFZ...        114\n",
      "13                  Sony RX100VI Black / Sony RX100M6        196\n"
     ]
    }
   ],
   "source": [
    "query = input(\"Cari produk: \")\n",
    "hasil_rekomendasi = recommend_with_nn(query, df_unique, vectorizer, tfidf_matrix_produk, model)\n",
    "\n",
    "print(hasil_rekomendasi)\n"
   ]
  },
  {
   "cell_type": "code",
   "execution_count": 21,
   "id": "1145552b",
   "metadata": {},
   "outputs": [],
   "source": [
    "# Simpan vectorizer\n",
    "import pickle\n",
    "with open('vectorizer.pkl', 'wb') as f:\n",
    "    pickle.dump(vectorizer, f)"
   ]
  },
  {
   "cell_type": "code",
   "execution_count": 22,
   "id": "333023b4",
   "metadata": {},
   "outputs": [],
   "source": [
    "from scipy.sparse import save_npz\n",
    "save_npz(\"tfidf_matrix.npz\", tfidf_matrix_produk)"
   ]
  },
  {
   "cell_type": "code",
   "execution_count": 1,
   "id": "71cc4c14",
   "metadata": {},
   "outputs": [
    {
     "name": "stdout",
     "output_type": "stream",
     "text": [
      "Note: you may need to restart the kernel to use updated packages.\n"
     ]
    },
    {
     "name": "stderr",
     "output_type": "stream",
     "text": [
      "WARNING: Ignoring invalid distribution ~ensorflow-intel (c:\\Users\\LENOVO\\AppData\\Local\\Programs\\Python\\Python311\\Lib\\site-packages)\n",
      "WARNING: Ignoring invalid distribution ~umpy (c:\\Users\\LENOVO\\AppData\\Local\\Programs\\Python\\Python311\\Lib\\site-packages)\n"
     ]
    }
   ],
   "source": [
    "pip freeze > requirements.txt\n"
   ]
  }
 ],
 "metadata": {
  "kernelspec": {
   "display_name": "Python 3",
   "language": "python",
   "name": "python3"
  },
  "language_info": {
   "codemirror_mode": {
    "name": "ipython",
    "version": 3
   },
   "file_extension": ".py",
   "mimetype": "text/x-python",
   "name": "python",
   "nbconvert_exporter": "python",
   "pygments_lexer": "ipython3",
   "version": "3.11.4"
  }
 },
 "nbformat": 4,
 "nbformat_minor": 5
}
